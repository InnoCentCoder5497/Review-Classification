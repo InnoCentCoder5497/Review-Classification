{
 "cells": [
  {
   "cell_type": "markdown",
   "metadata": {},
   "source": [
    "# Review Classification\n",
    "\n",
    "## Batching and Model Training\n",
    "\n",
    "### Import Libraries"
   ]
  },
  {
   "cell_type": "code",
   "execution_count": 1,
   "metadata": {},
   "outputs": [],
   "source": [
    "import pandas as pd # Loading data\n",
    "import numpy as np\n",
    "import warnings\n",
    "from sklearn.model_selection import train_test_split # train test splits\n",
    "\n",
    "warnings.filterwarnings('ignore')"
   ]
  },
  {
   "cell_type": "markdown",
   "metadata": {},
   "source": [
    "### Data Loading and Processing\n",
    "\n",
    "We will first do all the necessary pre-processing before starting to create batches and training the model. All the steps are explained in the notebook named `Text Cleaning.ipynb`"
   ]
  },
  {
   "cell_type": "code",
   "execution_count": 2,
   "metadata": {},
   "outputs": [
    {
     "data": {
      "text/html": [
       "<div>\n",
       "<style scoped>\n",
       "    .dataframe tbody tr th:only-of-type {\n",
       "        vertical-align: middle;\n",
       "    }\n",
       "\n",
       "    .dataframe tbody tr th {\n",
       "        vertical-align: top;\n",
       "    }\n",
       "\n",
       "    .dataframe thead th {\n",
       "        text-align: right;\n",
       "    }\n",
       "</style>\n",
       "<table border=\"1\" class=\"dataframe\">\n",
       "  <thead>\n",
       "    <tr style=\"text-align: right;\">\n",
       "      <th></th>\n",
       "      <th>Text</th>\n",
       "      <th>Score</th>\n",
       "    </tr>\n",
       "  </thead>\n",
       "  <tbody>\n",
       "    <tr>\n",
       "      <th>0</th>\n",
       "      <td>I have bought several of the Vitality canned d...</td>\n",
       "      <td>5</td>\n",
       "    </tr>\n",
       "    <tr>\n",
       "      <th>1</th>\n",
       "      <td>Product arrived labeled as Jumbo Salted Peanut...</td>\n",
       "      <td>1</td>\n",
       "    </tr>\n",
       "    <tr>\n",
       "      <th>2</th>\n",
       "      <td>This is a confection that has been around a fe...</td>\n",
       "      <td>4</td>\n",
       "    </tr>\n",
       "    <tr>\n",
       "      <th>3</th>\n",
       "      <td>If you are looking for the secret ingredient i...</td>\n",
       "      <td>2</td>\n",
       "    </tr>\n",
       "    <tr>\n",
       "      <th>4</th>\n",
       "      <td>Great taffy at a great price.  There was a wid...</td>\n",
       "      <td>5</td>\n",
       "    </tr>\n",
       "  </tbody>\n",
       "</table>\n",
       "</div>"
      ],
      "text/plain": [
       "                                                Text  Score\n",
       "0  I have bought several of the Vitality canned d...      5\n",
       "1  Product arrived labeled as Jumbo Salted Peanut...      1\n",
       "2  This is a confection that has been around a fe...      4\n",
       "3  If you are looking for the secret ingredient i...      2\n",
       "4  Great taffy at a great price.  There was a wid...      5"
      ]
     },
     "execution_count": 2,
     "metadata": {},
     "output_type": "execute_result"
    }
   ],
   "source": [
    "# Read dataset\n",
    "data = pd.read_csv(\"Reviews.csv\")\n",
    "# Drop unnecesary columns and duplicates\n",
    "new_data = data.drop_duplicates(subset=['UserId', 'ProfileName', 'Time', 'Text'])\n",
    "# Get useful columns\n",
    "useful_data = new_data[['Text', 'Score']]\n",
    "# Calculate length of each sentence without tokenizer\n",
    "useful_data['sudo_length'] = useful_data.Text.str.split().str.len()\n",
    "# Filter examples by length\n",
    "useful_data = useful_data[(useful_data.sudo_length > 20) & (useful_data.sudo_length < 100)]\n",
    "# Remove length column\n",
    "useful_data = useful_data.drop(['sudo_length'], axis = 1)\n",
    "# print 5 rows\n",
    "useful_data.head()"
   ]
  },
  {
   "cell_type": "markdown",
   "metadata": {},
   "source": [
    "#### Create Train and Test sets"
   ]
  },
  {
   "cell_type": "code",
   "execution_count": 3,
   "metadata": {},
   "outputs": [],
   "source": [
    "train, test = train_test_split(useful_data, test_size = 0.2)\n",
    "train.to_csv(\"./train_test_data/train.csv\", index=False)\n",
    "test.to_csv(\"./train_test_data/test.csv\", index=False)"
   ]
  },
  {
   "cell_type": "code",
   "execution_count": 4,
   "metadata": {},
   "outputs": [],
   "source": [
    "import torchtext\n",
    "from torchtext.data import TabularDataset, Field, BucketIterator\n",
    "import spacy"
   ]
  },
  {
   "cell_type": "code",
   "execution_count": 5,
   "metadata": {},
   "outputs": [],
   "source": [
    "tok = spacy.load('en_core_web_sm')"
   ]
  },
  {
   "cell_type": "code",
   "execution_count": 6,
   "metadata": {},
   "outputs": [],
   "source": [
    "def tokenize_en(sent):\n",
    "    return [item.text for item in tok.tokenizer(sent)]"
   ]
  },
  {
   "cell_type": "code",
   "execution_count": 7,
   "metadata": {},
   "outputs": [
    {
     "data": {
      "text/plain": [
       "['hello', 'their', ',', 'why', 'do', \"n't\", 'u', 'have', 'a', 'seat', '?']"
      ]
     },
     "execution_count": 7,
     "metadata": {},
     "output_type": "execute_result"
    }
   ],
   "source": [
    "sent = \"hello their, why don't u have a seat?\"\n",
    "tokenize_en(sent)"
   ]
  },
  {
   "cell_type": "code",
   "execution_count": 8,
   "metadata": {},
   "outputs": [],
   "source": [
    "SENT_FIELD = Field(sequential=True, tokenize=tokenize_en)\n",
    "LABEL_FIELD = Field(sequential=False, use_vocab=False, pad_token=None, unk_token=None)\n",
    "\n",
    "data_fields = [\n",
    "    ('Text', SENT_FIELD),\n",
    "    ('Score', LABEL_FIELD)\n",
    "]"
   ]
  },
  {
   "cell_type": "code",
   "execution_count": 9,
   "metadata": {},
   "outputs": [],
   "source": [
    "train, val = TabularDataset.splits(\n",
    "    path='./train_test_data',\n",
    "    train='train.csv',\n",
    "    validation = 'test.csv',\n",
    "    format='csv',\n",
    "    skip_header=True,\n",
    "    fields=data_fields\n",
    ")"
   ]
  },
  {
   "cell_type": "code",
   "execution_count": 10,
   "metadata": {},
   "outputs": [],
   "source": [
    "SENT_FIELD.build_vocab(train)"
   ]
  },
  {
   "cell_type": "code",
   "execution_count": 11,
   "metadata": {},
   "outputs": [],
   "source": [
    "BATCH_SIZE = 32\n",
    "dev = 'cuda'\n",
    "\n",
    "train_iter, val_iter = BucketIterator.splits(\n",
    "    (train, val), \n",
    "    batch_sizes=(BATCH_SIZE, BATCH_SIZE), \n",
    "    sort_key=lambda x: len(x.Text), \n",
    "    shuffle=True, \n",
    "    sort_within_batch=True,\n",
    "    repeat=False,\n",
    "    device = dev\n",
    ")"
   ]
  },
  {
   "cell_type": "code",
   "execution_count": 12,
   "metadata": {},
   "outputs": [],
   "source": [
    "import torch\n",
    "import torch.nn as nn\n",
    "import torch.optim as opt\n",
    "from sklearn.metrics import confusion_matrix"
   ]
  },
  {
   "cell_type": "code",
   "execution_count": 13,
   "metadata": {
    "jupyter": {
     "source_hidden": true
    }
   },
   "outputs": [],
   "source": [
    "class ClassificationMetrics:\n",
    "    def __init__(self, num_classes):\n",
    "        self.num_classes = num_classes\n",
    "        self.classes = list(range(num_classes))\n",
    "        self.epsilon = 1e-12\n",
    "        self.cmatrix = np.zeros((num_classes, num_classes), dtype = np.int64) + self.epsilon\n",
    "        \n",
    "        self.total_correct = 0\n",
    "        self.total_examples = 0\n",
    "        \n",
    "    def update(self, pred, truth):\n",
    "        pred = pred.cpu()\n",
    "        truth = truth.cpu()\n",
    "        \n",
    "        _, idx = pred.topk(1)\n",
    "        truth = truth.view(-1, 1)\n",
    "        \n",
    "        self.total_examples += len(truth)\n",
    "        self.total_correct += sum(idx == truth).item()\n",
    "        \n",
    "        val = confusion_matrix(truth, idx, labels=self.classes)\n",
    "        \n",
    "        self.cmatrix = self.cmatrix + val\n",
    "        \n",
    "        \n",
    "    def precision_score(self):\n",
    "        scores = {}\n",
    "        for i in range(self.num_classes):\n",
    "            scores[i] = self.cmatrix[i, i] / (sum(self.cmatrix[:, i]) + self.epsilon)\n",
    "        \n",
    "        return scores\n",
    "    \n",
    "    def recall_score(self):\n",
    "        scores = {}\n",
    "        for i in range(self.num_classes):\n",
    "            scores[i] = self.cmatrix[i, i] / (sum(self.cmatrix[i, :]) + self.epsilon)\n",
    "        \n",
    "        return scores\n",
    "    \n",
    "    def scores(self, return_type = 'f1'):\n",
    "        pscores = self.precision_score()\n",
    "        rscores = self.recall_score()\n",
    "        scores = {}\n",
    "        for i in range(self.num_classes):\n",
    "            if(pscores[i] == 0 and rscores[i] == 0):\n",
    "                scores[i] = 0\n",
    "            else:\n",
    "                scores[i] = 2 * ((pscores[i] * rscores[i]) / (pscores[i] + rscores[i])  + self.epsilon)\n",
    "            \n",
    "        if return_type == 'f1':\n",
    "            return scores\n",
    "        elif return_type == 'all':\n",
    "            all_scores = list(zip(pscores.values(), rscores.values(), scores.values()))\n",
    "            t = {}\n",
    "            for i in range(self.num_classes):\n",
    "                t[i] = all_scores[i]\n",
    "                \n",
    "            return t\n",
    "        else:\n",
    "            raise Exception(\"Invalid argument for return type\")\n",
    "            \n",
    "    def accuracy_score(self):\n",
    "        return self.total_correct / self.total_examples\n",
    "    \n",
    "    def reset(self):\n",
    "        self.total_correct = 0\n",
    "        self.total_examples = 0\n",
    "        self.cmatrix = np.zeros((self.num_classes, self.num_classes))\n",
    "            \n",
    "    def print_report(self):\n",
    "        all_scores = self.scores('all')\n",
    "        print(\"{:^15}\\t{:^15}\\t{:^15}\\t{:^15}\".format(\"Class\", \"Precision\", \"Recall\", \"F1-score\"))\n",
    "        for c, values in all_scores.items():\n",
    "            print(\"{:^15}\\t{:^15.3f}\\t{:^15.3f}\\t{:^15.3f}\".format(c, values[0], values[1], values[2]))\n",
    "            \n",
    "        print(\"Accuracy : {:.5f} %\".format(self.accuracy_score()))"
   ]
  },
  {
   "cell_type": "code",
   "execution_count": 14,
   "metadata": {},
   "outputs": [],
   "source": [
    "class BiDirectionalLstm(nn.Module):\n",
    "    def __init__(self, vocab_size, embedding_dim, hidden_size, num_classes):\n",
    "        super(BiDirectionalLstm, self).__init__()\n",
    "        \n",
    "        self.embedding = nn.Embedding(vocab_size, embedding_dim)\n",
    "        self.hidden_size = hidden_size\n",
    "        self.cell = nn.LSTM(embedding_dim, hidden_size, bidirectional = True)\n",
    "        self.linear = nn.Linear(hidden_size * 2, num_classes)\n",
    "        self.soft = nn.Softmax(dim=1)\n",
    "        \n",
    "    def forward(self, x, hstate = None):\n",
    "        if hstate is None:\n",
    "            hstate = self.init_hidden(self.hidden_size, x.shape[-1])\n",
    "            \n",
    "        cell_out, _ = self.cell(self.embedding(x), hstate)\n",
    "        \n",
    "        temp = torch.cat([cell_out[-1, :, :self.hidden_size], cell_out[0, :, self.hidden_size:]], axis = -1)\n",
    "        \n",
    "        out = self.linear(temp)\n",
    "        \n",
    "        return self.soft(out)\n",
    "            \n",
    "    def init_hidden(self, hidden_size, bs):\n",
    "        return (torch.zeros(2, bs, hidden_size, device=dev), torch.zeros(2, bs, hidden_size, device=dev))\n",
    "    \n",
    "    def load_embeddings(self, embeddings):\n",
    "        self.embedding.weight.data.copy_(embeddings)"
   ]
  },
  {
   "cell_type": "code",
   "execution_count": 15,
   "metadata": {},
   "outputs": [],
   "source": [
    "VOCAB_SIZE = len(SENT_FIELD.vocab)\n",
    "EMBEDDING_DIM = 300\n",
    "HIDDEN_SIZE = 128\n",
    "NUM_CLASSES = 5"
   ]
  },
  {
   "cell_type": "code",
   "execution_count": 16,
   "metadata": {},
   "outputs": [],
   "source": [
    "import pandas as pd\n",
    "from sklearn.utils import class_weight\n",
    "\n",
    "train = pd.read_csv(\"./train_test_data/train.csv\")\n",
    "weight_array = class_weight.compute_class_weight('balanced', sorted(train.Score.unique()), train.Score)\n",
    "del(train)"
   ]
  },
  {
   "cell_type": "code",
   "execution_count": 17,
   "metadata": {},
   "outputs": [],
   "source": [
    "net = BiDirectionalLstm(VOCAB_SIZE, EMBEDDING_DIM, HIDDEN_SIZE, NUM_CLASSES)\n",
    "#net.load_embeddings(SENT_FIELD.vocab.vectors)\n",
    "net = net.cuda()\n",
    "criterion = nn.CrossEntropyLoss(weight=torch.FloatTensor(weight_array).to(dev))\n",
    "\n",
    "optimizer = opt.Adam(net.parameters(), lr = 0.001)"
   ]
  },
  {
   "cell_type": "code",
   "execution_count": 18,
   "metadata": {},
   "outputs": [],
   "source": [
    "train_metrics = ClassificationMetrics(NUM_CLASSES)\n",
    "val_metrics = ClassificationMetrics(NUM_CLASSES)"
   ]
  },
  {
   "cell_type": "code",
   "execution_count": 19,
   "metadata": {},
   "outputs": [
    {
     "name": "stderr",
     "output_type": "stream",
     "text": [
      "100%|██████████████████████████████████████████████████████████████████████████████| 7011/7011 [07:02<00:00, 16.59it/s]\n",
      "  0%|▎                                                                                | 6/1753 [00:00<00:30, 57.85it/s]"
     ]
    },
    {
     "name": "stdout",
     "output_type": "stream",
     "text": [
      "Training Run\n",
      "Epoch : 1 Loss : 1.42975\n",
      "     Class     \t   Precision   \t    Recall     \t   F1-score    \n",
      "       0       \t     0.405     \t     0.600     \t     0.483     \n",
      "       1       \t     0.193     \t     0.249     \t     0.217     \n",
      "       2       \t     0.221     \t     0.365     \t     0.275     \n",
      "       3       \t     0.247     \t     0.343     \t     0.287     \n",
      "       4       \t     0.880     \t     0.675     \t     0.764     \n",
      "Accuracy : 0.58296 %\n"
     ]
    },
    {
     "name": "stderr",
     "output_type": "stream",
     "text": [
      "100%|██████████████████████████████████████████████████████████████████████████████| 1753/1753 [00:17<00:00, 97.46it/s]\n",
      "  0%|                                                                                         | 0/7011 [00:00<?, ?it/s]"
     ]
    },
    {
     "name": "stdout",
     "output_type": "stream",
     "text": [
      "Validation Run\n",
      "Epoch : 1 Loss : 1.39277\n",
      "     Class     \t   Precision   \t    Recall     \t   F1-score    \n",
      "       0       \t     0.561     \t     0.599     \t     0.580     \n",
      "       1       \t     0.259     \t     0.161     \t     0.198     \n",
      "       2       \t     0.276     \t     0.531     \t     0.363     \n",
      "       3       \t     0.250     \t     0.457     \t     0.324     \n",
      "       4       \t     0.900     \t     0.687     \t     0.780     \n",
      "Accuracy : 0.61243 %\n"
     ]
    },
    {
     "name": "stderr",
     "output_type": "stream",
     "text": [
      "100%|██████████████████████████████████████████████████████████████████████████████| 7011/7011 [06:40<00:00, 17.52it/s]\n",
      "  1%|▍                                                                                | 9/1753 [00:00<00:20, 85.94it/s]"
     ]
    },
    {
     "name": "stdout",
     "output_type": "stream",
     "text": [
      "Training Run\n",
      "Epoch : 2 Loss : 1.34704\n",
      "     Class     \t   Precision   \t    Recall     \t   F1-score    \n",
      "       0       \t     0.555     \t     0.682     \t     0.612     \n",
      "       1       \t     0.281     \t     0.394     \t     0.328     \n",
      "       2       \t     0.327     \t     0.444     \t     0.377     \n",
      "       3       \t     0.300     \t     0.457     \t     0.362     \n",
      "       4       \t     0.910     \t     0.727     \t     0.808     \n",
      "Accuracy : 0.65195 %\n"
     ]
    },
    {
     "name": "stderr",
     "output_type": "stream",
     "text": [
      "100%|█████████████████████████████████████████████████████████████████████████████| 1753/1753 [00:15<00:00, 115.71it/s]\n",
      "  0%|                                                                                         | 0/7011 [00:00<?, ?it/s]"
     ]
    },
    {
     "name": "stdout",
     "output_type": "stream",
     "text": [
      "Validation Run\n",
      "Epoch : 2 Loss : 1.37190\n",
      "     Class     \t   Precision   \t    Recall     \t   F1-score    \n",
      "       0       \t     0.523     \t     0.704     \t     0.600     \n",
      "       1       \t     0.279     \t     0.248     \t     0.262     \n",
      "       2       \t     0.289     \t     0.472     \t     0.358     \n",
      "       3       \t     0.260     \t     0.459     \t     0.332     \n",
      "       4       \t     0.912     \t     0.681     \t     0.780     \n",
      "Accuracy : 0.61818 %\n"
     ]
    },
    {
     "name": "stderr",
     "output_type": "stream",
     "text": [
      "100%|██████████████████████████████████████████████████████████████████████████████| 7011/7011 [06:37<00:00, 17.65it/s]\n",
      "  0%|▏                                                                                | 4/1753 [00:00<00:46, 37.84it/s]"
     ]
    },
    {
     "name": "stdout",
     "output_type": "stream",
     "text": [
      "Training Run\n",
      "Epoch : 3 Loss : 1.29656\n",
      "     Class     \t   Precision   \t    Recall     \t   F1-score    \n",
      "       0       \t     0.628     \t     0.714     \t     0.668     \n",
      "       1       \t     0.348     \t     0.489     \t     0.407     \n",
      "       2       \t     0.377     \t     0.520     \t     0.437     \n",
      "       3       \t     0.339     \t     0.511     \t     0.408     \n",
      "       4       \t     0.922     \t     0.748     \t     0.826     \n",
      "Accuracy : 0.68591 %\n"
     ]
    },
    {
     "name": "stderr",
     "output_type": "stream",
     "text": [
      "100%|█████████████████████████████████████████████████████████████████████████████| 1753/1753 [00:15<00:00, 113.73it/s]\n",
      "  0%|                                                                                         | 0/7011 [00:00<?, ?it/s]"
     ]
    },
    {
     "name": "stdout",
     "output_type": "stream",
     "text": [
      "Validation Run\n",
      "Epoch : 3 Loss : 1.36746\n",
      "     Class     \t   Precision   \t    Recall     \t   F1-score    \n",
      "       0       \t     0.561     \t     0.615     \t     0.586     \n",
      "       1       \t     0.261     \t     0.403     \t     0.317     \n",
      "       2       \t     0.291     \t     0.429     \t     0.347     \n",
      "       3       \t     0.313     \t     0.375     \t     0.341     \n",
      "       4       \t     0.898     \t     0.771     \t     0.830     \n",
      "Accuracy : 0.66373 %\n"
     ]
    },
    {
     "name": "stderr",
     "output_type": "stream",
     "text": [
      "100%|██████████████████████████████████████████████████████████████████████████████| 7011/7011 [06:37<00:00, 17.62it/s]\n",
      "  0%|▎                                                                                | 8/1753 [00:00<00:23, 75.67it/s]"
     ]
    },
    {
     "name": "stdout",
     "output_type": "stream",
     "text": [
      "Training Run\n",
      "Epoch : 4 Loss : 1.25596\n",
      "     Class     \t   Precision   \t    Recall     \t   F1-score    \n",
      "       0       \t     0.670     \t     0.748     \t     0.707     \n",
      "       1       \t     0.409     \t     0.571     \t     0.477     \n",
      "       2       \t     0.427     \t     0.577     \t     0.491     \n",
      "       3       \t     0.374     \t     0.553     \t     0.446     \n",
      "       4       \t     0.928     \t     0.764     \t     0.838     \n",
      "Accuracy : 0.71288 %\n"
     ]
    },
    {
     "name": "stderr",
     "output_type": "stream",
     "text": [
      "100%|█████████████████████████████████████████████████████████████████████████████| 1753/1753 [00:15<00:00, 113.73it/s]\n",
      "  0%|                                                                                         | 0/7011 [00:00<?, ?it/s]"
     ]
    },
    {
     "name": "stdout",
     "output_type": "stream",
     "text": [
      "Validation Run\n",
      "Epoch : 4 Loss : 1.36372\n",
      "     Class     \t   Precision   \t    Recall     \t   F1-score    \n",
      "       0       \t     0.532     \t     0.683     \t     0.598     \n",
      "       1       \t     0.251     \t     0.381     \t     0.303     \n",
      "       2       \t     0.315     \t     0.395     \t     0.350     \n",
      "       3       \t     0.274     \t     0.473     \t     0.347     \n",
      "       4       \t     0.915     \t     0.690     \t     0.787     \n",
      "Accuracy : 0.62566 %\n"
     ]
    },
    {
     "name": "stderr",
     "output_type": "stream",
     "text": [
      "100%|██████████████████████████████████████████████████████████████████████████████| 7011/7011 [06:36<00:00, 17.68it/s]\n",
      "  1%|▍                                                                               | 10/1753 [00:00<00:17, 97.35it/s]"
     ]
    },
    {
     "name": "stdout",
     "output_type": "stream",
     "text": [
      "Training Run\n",
      "Epoch : 5 Loss : 1.22121\n",
      "     Class     \t   Precision   \t    Recall     \t   F1-score    \n",
      "       0       \t     0.702     \t     0.775     \t     0.737     \n",
      "       1       \t     0.466     \t     0.627     \t     0.534     \n",
      "       2       \t     0.466     \t     0.626     \t     0.534     \n",
      "       3       \t     0.408     \t     0.590     \t     0.482     \n",
      "       4       \t     0.934     \t     0.781     \t     0.851     \n",
      "Accuracy : 0.73762 %\n"
     ]
    },
    {
     "name": "stderr",
     "output_type": "stream",
     "text": [
      "100%|█████████████████████████████████████████████████████████████████████████████| 1753/1753 [00:14<00:00, 121.33it/s]\n",
      "  0%|                                                                                         | 0/7011 [00:00<?, ?it/s]"
     ]
    },
    {
     "name": "stdout",
     "output_type": "stream",
     "text": [
      "Validation Run\n",
      "Epoch : 5 Loss : 1.36534\n",
      "     Class     \t   Precision   \t    Recall     \t   F1-score    \n",
      "       0       \t     0.517     \t     0.698     \t     0.594     \n",
      "       1       \t     0.255     \t     0.373     \t     0.303     \n",
      "       2       \t     0.313     \t     0.390     \t     0.347     \n",
      "       3       \t     0.311     \t     0.399     \t     0.350     \n",
      "       4       \t     0.903     \t     0.754     \t     0.822     \n",
      "Accuracy : 0.65917 %\n"
     ]
    },
    {
     "name": "stderr",
     "output_type": "stream",
     "text": [
      "100%|██████████████████████████████████████████████████████████████████████████████| 7011/7011 [06:35<00:00, 17.71it/s]\n",
      "  1%|▍                                                                                | 9/1753 [00:00<00:19, 88.47it/s]"
     ]
    },
    {
     "name": "stdout",
     "output_type": "stream",
     "text": [
      "Training Run\n",
      "Epoch : 6 Loss : 1.19644\n",
      "     Class     \t   Precision   \t    Recall     \t   F1-score    \n",
      "       0       \t     0.730     \t     0.792     \t     0.760     \n",
      "       1       \t     0.502     \t     0.669     \t     0.574     \n",
      "       2       \t     0.494     \t     0.663     \t     0.566     \n",
      "       3       \t     0.429     \t     0.617     \t     0.506     \n",
      "       4       \t     0.938     \t     0.790     \t     0.858     \n",
      "Accuracy : 0.75297 %\n"
     ]
    },
    {
     "name": "stderr",
     "output_type": "stream",
     "text": [
      "100%|█████████████████████████████████████████████████████████████████████████████| 1753/1753 [00:15<00:00, 115.72it/s]\n",
      "  0%|                                                                                         | 0/7011 [00:00<?, ?it/s]"
     ]
    },
    {
     "name": "stdout",
     "output_type": "stream",
     "text": [
      "Validation Run\n",
      "Epoch : 6 Loss : 1.37255\n",
      "     Class     \t   Precision   \t    Recall     \t   F1-score    \n",
      "       0       \t     0.602     \t     0.603     \t     0.603     \n",
      "       1       \t     0.271     \t     0.335     \t     0.300     \n",
      "       2       \t     0.313     \t     0.424     \t     0.360     \n",
      "       3       \t     0.292     \t     0.459     \t     0.357     \n",
      "       4       \t     0.899     \t     0.749     \t     0.817     \n",
      "Accuracy : 0.65521 %\n"
     ]
    },
    {
     "name": "stderr",
     "output_type": "stream",
     "text": [
      "100%|██████████████████████████████████████████████████████████████████████████████| 7011/7011 [06:37<00:00, 17.65it/s]\n",
      "  0%|▎                                                                                | 8/1753 [00:00<00:22, 77.88it/s]"
     ]
    },
    {
     "name": "stdout",
     "output_type": "stream",
     "text": [
      "Training Run\n",
      "Epoch : 7 Loss : 1.17758\n",
      "     Class     \t   Precision   \t    Recall     \t   F1-score    \n",
      "       0       \t     0.742     \t     0.801     \t     0.771     \n",
      "       1       \t     0.528     \t     0.693     \t     0.600     \n",
      "       2       \t     0.521     \t     0.690     \t     0.593     \n",
      "       3       \t     0.453     \t     0.639     \t     0.530     \n",
      "       4       \t     0.941     \t     0.801     \t     0.866     \n",
      "Accuracy : 0.76725 %\n"
     ]
    },
    {
     "name": "stderr",
     "output_type": "stream",
     "text": [
      "100%|█████████████████████████████████████████████████████████████████████████████| 1753/1753 [00:15<00:00, 115.42it/s]\n",
      "  0%|                                                                                         | 0/7011 [00:00<?, ?it/s]"
     ]
    },
    {
     "name": "stdout",
     "output_type": "stream",
     "text": [
      "Validation Run\n",
      "Epoch : 7 Loss : 1.36840\n",
      "     Class     \t   Precision   \t    Recall     \t   F1-score    \n",
      "       0       \t     0.599     \t     0.612     \t     0.605     \n",
      "       1       \t     0.262     \t     0.378     \t     0.309     \n",
      "       2       \t     0.297     \t     0.446     \t     0.356     \n",
      "       3       \t     0.292     \t     0.414     \t     0.343     \n",
      "       4       \t     0.903     \t     0.750     \t     0.819     \n",
      "Accuracy : 0.65453 %\n"
     ]
    },
    {
     "name": "stderr",
     "output_type": "stream",
     "text": [
      "100%|██████████████████████████████████████████████████████████████████████████████| 7011/7011 [06:36<00:00, 17.70it/s]\n",
      "  1%|▍                                                                               | 10/1753 [00:00<00:17, 99.27it/s]"
     ]
    },
    {
     "name": "stdout",
     "output_type": "stream",
     "text": [
      "Training Run\n",
      "Epoch : 8 Loss : 1.16141\n",
      "     Class     \t   Precision   \t    Recall     \t   F1-score    \n",
      "       0       \t     0.758     \t     0.813     \t     0.784     \n",
      "       1       \t     0.556     \t     0.718     \t     0.627     \n",
      "       2       \t     0.540     \t     0.714     \t     0.615     \n",
      "       3       \t     0.469     \t     0.654     \t     0.546     \n",
      "       4       \t     0.944     \t     0.809     \t     0.871     \n",
      "Accuracy : 0.77813 %\n"
     ]
    },
    {
     "name": "stderr",
     "output_type": "stream",
     "text": [
      "100%|█████████████████████████████████████████████████████████████████████████████| 1753/1753 [00:14<00:00, 116.88it/s]\n",
      "  0%|                                                                                         | 0/7011 [00:00<?, ?it/s]"
     ]
    },
    {
     "name": "stdout",
     "output_type": "stream",
     "text": [
      "Validation Run\n",
      "Epoch : 8 Loss : 1.37161\n",
      "     Class     \t   Precision   \t    Recall     \t   F1-score    \n",
      "       0       \t     0.594     \t     0.623     \t     0.608     \n",
      "       1       \t     0.256     \t     0.379     \t     0.305     \n",
      "       2       \t     0.312     \t     0.387     \t     0.345     \n",
      "       3       \t     0.280     \t     0.476     \t     0.353     \n",
      "       4       \t     0.906     \t     0.721     \t     0.803     \n",
      "Accuracy : 0.64028 %\n"
     ]
    },
    {
     "name": "stderr",
     "output_type": "stream",
     "text": [
      "100%|██████████████████████████████████████████████████████████████████████████████| 7011/7011 [06:35<00:00, 17.72it/s]\n",
      "  1%|▍                                                                               | 10/1753 [00:00<00:17, 99.27it/s]"
     ]
    },
    {
     "name": "stdout",
     "output_type": "stream",
     "text": [
      "Training Run\n",
      "Epoch : 9 Loss : 1.14963\n",
      "     Class     \t   Precision   \t    Recall     \t   F1-score    \n",
      "       0       \t     0.764     \t     0.825     \t     0.793     \n",
      "       1       \t     0.578     \t     0.732     \t     0.646     \n",
      "       2       \t     0.556     \t     0.726     \t     0.630     \n",
      "       3       \t     0.485     \t     0.672     \t     0.563     \n",
      "       4       \t     0.946     \t     0.815     \t     0.875     \n",
      "Accuracy : 0.78689 %\n"
     ]
    },
    {
     "name": "stderr",
     "output_type": "stream",
     "text": [
      "100%|█████████████████████████████████████████████████████████████████████████████| 1753/1753 [00:14<00:00, 118.56it/s]\n",
      "  0%|                                                                                         | 0/7011 [00:00<?, ?it/s]"
     ]
    },
    {
     "name": "stdout",
     "output_type": "stream",
     "text": [
      "Validation Run\n",
      "Epoch : 9 Loss : 1.37103\n",
      "     Class     \t   Precision   \t    Recall     \t   F1-score    \n",
      "       0       \t     0.579     \t     0.625     \t     0.601     \n",
      "       1       \t     0.257     \t     0.378     \t     0.306     \n",
      "       2       \t     0.313     \t     0.402     \t     0.352     \n",
      "       3       \t     0.289     \t     0.449     \t     0.352     \n",
      "       4       \t     0.903     \t     0.737     \t     0.812     \n",
      "Accuracy : 0.64875 %\n"
     ]
    },
    {
     "name": "stderr",
     "output_type": "stream",
     "text": [
      "100%|██████████████████████████████████████████████████████████████████████████████| 7011/7011 [06:35<00:00, 17.71it/s]\n",
      "  2%|█▏                                                                             | 27/1753 [00:00<00:16, 104.75it/s]"
     ]
    },
    {
     "name": "stdout",
     "output_type": "stream",
     "text": [
      "Training Run\n",
      "Epoch : 10 Loss : 1.13802\n",
      "     Class     \t   Precision   \t    Recall     \t   F1-score    \n",
      "       0       \t     0.777     \t     0.834     \t     0.804     \n",
      "       1       \t     0.592     \t     0.753     \t     0.663     \n",
      "       2       \t     0.570     \t     0.743     \t     0.645     \n",
      "       3       \t     0.499     \t     0.680     \t     0.575     \n",
      "       4       \t     0.948     \t     0.822     \t     0.880     \n",
      "Accuracy : 0.79547 %\n"
     ]
    },
    {
     "name": "stderr",
     "output_type": "stream",
     "text": [
      "100%|█████████████████████████████████████████████████████████████████████████████| 1753/1753 [00:14<00:00, 120.36it/s]"
     ]
    },
    {
     "name": "stdout",
     "output_type": "stream",
     "text": [
      "Validation Run\n",
      "Epoch : 10 Loss : 1.37275\n",
      "     Class     \t   Precision   \t    Recall     \t   F1-score    \n",
      "       0       \t     0.577     \t     0.667     \t     0.619     \n",
      "       1       \t     0.263     \t     0.341     \t     0.297     \n",
      "       2       \t     0.303     \t     0.396     \t     0.344     \n",
      "       3       \t     0.298     \t     0.413     \t     0.346     \n",
      "       4       \t     0.898     \t     0.762     \t     0.824     \n",
      "Accuracy : 0.66223 %\n"
     ]
    },
    {
     "name": "stderr",
     "output_type": "stream",
     "text": [
      "\n"
     ]
    }
   ],
   "source": [
    "from tqdm import tqdm \n",
    "N_EPOCH = 10\n",
    "\n",
    "for epoch in range(N_EPOCH):\n",
    "    train_metrics.reset()\n",
    "    losses = []\n",
    "    net.train()\n",
    "    for batch in tqdm(train_iter):\n",
    "        optimizer.zero_grad()\n",
    "        labels = batch.Score - 1\n",
    "        pred = net(batch.Text)\n",
    "\n",
    "        loss = criterion(pred, labels)\n",
    "        loss.backward()\n",
    "        losses.append(loss.item())\n",
    "        optimizer.step()\n",
    "\n",
    "        train_metrics.update(pred, labels)\n",
    "    \n",
    "    print(\"Training Run\\nEpoch : {} Loss : {:.5f}\".format(epoch + 1, sum(losses) / len(losses)))\n",
    "    train_metrics.print_report()\n",
    "    \n",
    "    val_metrics.reset()\n",
    "    val_losses = []\n",
    "    net.eval()\n",
    "    for batch in tqdm(val_iter):\n",
    "        labels = batch.Score - 1\n",
    "        pred = net(batch.Text)\n",
    "        loss = criterion(pred, labels)\n",
    "        val_losses.append(loss.item())\n",
    "        val_metrics.update(pred, labels)\n",
    "        \n",
    "    print(\"Validation Run\\nEpoch : {} Loss : {:.5f}\".format(epoch + 1, sum(val_losses) / len(val_losses)))\n",
    "    val_metrics.print_report()"
   ]
  },
  {
   "cell_type": "code",
   "execution_count": 33,
   "metadata": {},
   "outputs": [
    {
     "name": "stdout",
     "output_type": "stream",
     "text": [
      "Review Rating as predicted : 5\n"
     ]
    }
   ],
   "source": [
    "pos_sent = \"This food was awesome!\"\n",
    "\n",
    "pos_rev = SENT_FIELD.process([SENT_FIELD.preprocess(pos_sent)])\n",
    "\n",
    "net.eval()\n",
    "pred = net(pos_rev.to(dev))\n",
    "\n",
    "print(\"Review Rating as predicted : {}\".format(pred.topk(1)[1].item() + 1))"
   ]
  },
  {
   "cell_type": "code",
   "execution_count": 34,
   "metadata": {},
   "outputs": [
    {
     "name": "stdout",
     "output_type": "stream",
     "text": [
      "Review Rating as predicted : 1\n"
     ]
    }
   ],
   "source": [
    "pos_sent = \"I just hated that food. Not recommended at all.\"\n",
    "\n",
    "pos_rev = SENT_FIELD.process([SENT_FIELD.preprocess(pos_sent)])\n",
    "\n",
    "net.eval()\n",
    "pred = net(pos_rev.to(dev))\n",
    "\n",
    "print(\"Review Rating as predicted : {}\".format(pred.topk(1)[1].item() + 1))"
   ]
  }
 ],
 "metadata": {
  "kernelspec": {
   "display_name": "Python 3.8.1 64-bit ('torchenv': conda)",
   "language": "python",
   "name": "python38164bittorchenvconda44d23debcd2b40f9b9e35123d075dc93"
  },
  "language_info": {
   "codemirror_mode": {
    "name": "ipython",
    "version": 3
   },
   "file_extension": ".py",
   "mimetype": "text/x-python",
   "name": "python",
   "nbconvert_exporter": "python",
   "pygments_lexer": "ipython3",
   "version": "3.8.3"
  }
 },
 "nbformat": 4,
 "nbformat_minor": 4
}
