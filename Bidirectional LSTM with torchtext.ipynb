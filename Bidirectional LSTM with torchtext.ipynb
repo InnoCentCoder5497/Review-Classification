{
 "cells": [
  {
   "cell_type": "markdown",
   "metadata": {},
   "source": [
    "# Review Classification\n",
    "\n",
    "## Batching and Model Training\n",
    "\n",
    "### Import Libraries"
   ]
  },
  {
   "cell_type": "code",
   "execution_count": 1,
   "metadata": {},
   "outputs": [],
   "source": [
    "import pandas as pd # Loading data\n",
    "import numpy as np\n",
    "import warnings\n",
    "from sklearn.model_selection import train_test_split # train test splits\n",
    "\n",
    "warnings.filterwarnings('ignore')"
   ]
  },
  {
   "cell_type": "markdown",
   "metadata": {},
   "source": [
    "### Data Loading and Processing\n",
    "\n",
    "We will first do all the necessary pre-processing before starting to create batches and training the model. All the steps are explained in the notebook named `Text Cleaning.ipynb`"
   ]
  },
  {
   "cell_type": "code",
   "execution_count": 2,
   "metadata": {},
   "outputs": [
    {
     "data": {
      "text/html": [
       "<div>\n",
       "<style scoped>\n",
       "    .dataframe tbody tr th:only-of-type {\n",
       "        vertical-align: middle;\n",
       "    }\n",
       "\n",
       "    .dataframe tbody tr th {\n",
       "        vertical-align: top;\n",
       "    }\n",
       "\n",
       "    .dataframe thead th {\n",
       "        text-align: right;\n",
       "    }\n",
       "</style>\n",
       "<table border=\"1\" class=\"dataframe\">\n",
       "  <thead>\n",
       "    <tr style=\"text-align: right;\">\n",
       "      <th></th>\n",
       "      <th>Text</th>\n",
       "      <th>Score</th>\n",
       "    </tr>\n",
       "  </thead>\n",
       "  <tbody>\n",
       "    <tr>\n",
       "      <th>0</th>\n",
       "      <td>I have bought several of the Vitality canned d...</td>\n",
       "      <td>5</td>\n",
       "    </tr>\n",
       "    <tr>\n",
       "      <th>1</th>\n",
       "      <td>Product arrived labeled as Jumbo Salted Peanut...</td>\n",
       "      <td>1</td>\n",
       "    </tr>\n",
       "    <tr>\n",
       "      <th>2</th>\n",
       "      <td>This is a confection that has been around a fe...</td>\n",
       "      <td>4</td>\n",
       "    </tr>\n",
       "    <tr>\n",
       "      <th>3</th>\n",
       "      <td>If you are looking for the secret ingredient i...</td>\n",
       "      <td>2</td>\n",
       "    </tr>\n",
       "    <tr>\n",
       "      <th>4</th>\n",
       "      <td>Great taffy at a great price.  There was a wid...</td>\n",
       "      <td>5</td>\n",
       "    </tr>\n",
       "  </tbody>\n",
       "</table>\n",
       "</div>"
      ],
      "text/plain": [
       "                                                Text  Score\n",
       "0  I have bought several of the Vitality canned d...      5\n",
       "1  Product arrived labeled as Jumbo Salted Peanut...      1\n",
       "2  This is a confection that has been around a fe...      4\n",
       "3  If you are looking for the secret ingredient i...      2\n",
       "4  Great taffy at a great price.  There was a wid...      5"
      ]
     },
     "execution_count": 2,
     "metadata": {},
     "output_type": "execute_result"
    }
   ],
   "source": [
    "# Read dataset\n",
    "data = pd.read_csv(\"Reviews.csv\")\n",
    "# Drop unnecesary columns and duplicates\n",
    "new_data = data.drop_duplicates(subset=['UserId', 'ProfileName', 'Time', 'Text'])\n",
    "# Get useful columns\n",
    "useful_data = new_data[['Text', 'Score']]\n",
    "# Calculate length of each sentence without tokenizer\n",
    "useful_data['sudo_length'] = useful_data.Text.str.split().str.len()\n",
    "# Filter examples by length\n",
    "useful_data = useful_data[(useful_data.sudo_length > 20) & (useful_data.sudo_length < 100)]\n",
    "# Remove length column\n",
    "useful_data = useful_data.drop(['sudo_length'], axis = 1)\n",
    "# print 5 rows\n",
    "useful_data.head()"
   ]
  },
  {
   "cell_type": "markdown",
   "metadata": {},
   "source": [
    "#### Create Train and Test sets"
   ]
  },
  {
   "cell_type": "code",
   "execution_count": 3,
   "metadata": {},
   "outputs": [],
   "source": [
    "train, test = train_test_split(useful_data, test_size = 0.2)\n",
    "train.to_csv(\"./train_test_data/train.csv\", index=False)\n",
    "test.to_csv(\"./train_test_data/test.csv\", index=False)"
   ]
  },
  {
   "cell_type": "code",
   "execution_count": 4,
   "metadata": {},
   "outputs": [],
   "source": [
    "import torchtext\n",
    "from torchtext.data import TabularDataset, Field, BucketIterator\n",
    "import spacy"
   ]
  },
  {
   "cell_type": "code",
   "execution_count": 5,
   "metadata": {},
   "outputs": [],
   "source": [
    "tok = spacy.load('en_core_web_sm')"
   ]
  },
  {
   "cell_type": "code",
   "execution_count": 6,
   "metadata": {},
   "outputs": [],
   "source": [
    "def tokenize_en(sent):\n",
    "    sent = sent.lower()\n",
    "    return [item.text for item in tok.tokenizer(sent)]"
   ]
  },
  {
   "cell_type": "code",
   "execution_count": 7,
   "metadata": {},
   "outputs": [
    {
     "data": {
      "text/plain": [
       "['hello', 'their', ',', 'why', 'do', \"n't\", 'u', 'have', 'a', 'seat', '?']"
      ]
     },
     "execution_count": 7,
     "metadata": {},
     "output_type": "execute_result"
    }
   ],
   "source": [
    "sent = \"hello their, why don't u have a seat?\"\n",
    "tokenize_en(sent)"
   ]
  },
  {
   "cell_type": "code",
   "execution_count": 8,
   "metadata": {},
   "outputs": [],
   "source": [
    "SENT_FIELD = Field(sequential=True, tokenize=tokenize_en)\n",
    "LABEL_FIELD = Field(sequential=False, use_vocab=False, pad_token=None, unk_token=None)\n",
    "\n",
    "data_fields = [\n",
    "    ('Text', SENT_FIELD),\n",
    "    ('Score', LABEL_FIELD)\n",
    "]"
   ]
  },
  {
   "cell_type": "code",
   "execution_count": 9,
   "metadata": {},
   "outputs": [],
   "source": [
    "train, val = TabularDataset.splits(\n",
    "    path='./train_test_data',\n",
    "    train='train.csv',\n",
    "    validation = 'test.csv',\n",
    "    format='csv',\n",
    "    skip_header=True,\n",
    "    fields=data_fields\n",
    ")"
   ]
  },
  {
   "cell_type": "code",
   "execution_count": 10,
   "metadata": {},
   "outputs": [
    {
     "name": "stdout",
     "output_type": "stream",
     "text": [
      "Number of words : 101876\n"
     ]
    }
   ],
   "source": [
    "SENT_FIELD.build_vocab(train)\n",
    "SENT_FIELD.vocab.load_vectors('glove.6B.300d')\n",
    "\n",
    "print(\"Number of words : {}\".format(len(SENT_FIELD.vocab)))"
   ]
  },
  {
   "cell_type": "code",
   "execution_count": 11,
   "metadata": {},
   "outputs": [],
   "source": [
    "BATCH_SIZE = 32\n",
    "dev = 'cuda'\n",
    "\n",
    "train_iter, val_iter = BucketIterator.splits(\n",
    "    (train, val), \n",
    "    batch_sizes=(BATCH_SIZE, BATCH_SIZE), \n",
    "    sort_key=lambda x: len(x.Text), \n",
    "    shuffle=True, \n",
    "    sort_within_batch=True,\n",
    "    repeat=False,\n",
    "    device = dev\n",
    ")"
   ]
  },
  {
   "cell_type": "code",
   "execution_count": 12,
   "metadata": {},
   "outputs": [],
   "source": [
    "import torch\n",
    "import torch.nn as nn\n",
    "import torch.optim as opt\n",
    "from sklearn.metrics import confusion_matrix"
   ]
  },
  {
   "cell_type": "code",
   "execution_count": 13,
   "metadata": {
    "jupyter": {
     "source_hidden": true
    }
   },
   "outputs": [],
   "source": [
    "class ClassificationMetrics:\n",
    "    def __init__(self, num_classes):\n",
    "        self.num_classes = num_classes\n",
    "        self.classes = list(range(num_classes))\n",
    "        self.epsilon = 1e-12\n",
    "        self.cmatrix = np.zeros((num_classes, num_classes), dtype = np.int64) + self.epsilon\n",
    "        \n",
    "        self.total_correct = 0\n",
    "        self.total_examples = 0\n",
    "        \n",
    "    def update(self, pred, truth):\n",
    "        pred = pred.cpu()\n",
    "        truth = truth.cpu()\n",
    "        \n",
    "        _, idx = pred.topk(1)\n",
    "        truth = truth.view(-1, 1)\n",
    "        \n",
    "        self.total_examples += len(truth)\n",
    "        self.total_correct += sum(idx == truth).item()\n",
    "        \n",
    "        val = confusion_matrix(truth, idx, labels=self.classes)\n",
    "        \n",
    "        self.cmatrix = self.cmatrix + val\n",
    "        \n",
    "        \n",
    "    def precision_score(self):\n",
    "        scores = {}\n",
    "        for i in range(self.num_classes):\n",
    "            scores[i] = self.cmatrix[i, i] / (sum(self.cmatrix[:, i]) + self.epsilon)\n",
    "        \n",
    "        return scores\n",
    "    \n",
    "    def recall_score(self):\n",
    "        scores = {}\n",
    "        for i in range(self.num_classes):\n",
    "            scores[i] = self.cmatrix[i, i] / (sum(self.cmatrix[i, :]) + self.epsilon)\n",
    "        \n",
    "        return scores\n",
    "    \n",
    "    def scores(self, return_type = 'f1'):\n",
    "        pscores = self.precision_score()\n",
    "        rscores = self.recall_score()\n",
    "        scores = {}\n",
    "        for i in range(self.num_classes):\n",
    "            if(pscores[i] == 0 and rscores[i] == 0):\n",
    "                scores[i] = 0\n",
    "            else:\n",
    "                scores[i] = 2 * ((pscores[i] * rscores[i]) / (pscores[i] + rscores[i])  + self.epsilon)\n",
    "            \n",
    "        if return_type == 'f1':\n",
    "            return scores\n",
    "        elif return_type == 'all':\n",
    "            all_scores = list(zip(pscores.values(), rscores.values(), scores.values()))\n",
    "            t = {}\n",
    "            for i in range(self.num_classes):\n",
    "                t[i] = all_scores[i]\n",
    "                \n",
    "            return t\n",
    "        else:\n",
    "            raise Exception(\"Invalid argument for return type\")\n",
    "            \n",
    "    def accuracy_score(self):\n",
    "        return self.total_correct / self.total_examples\n",
    "    \n",
    "    def reset(self):\n",
    "        self.total_correct = 0\n",
    "        self.total_examples = 0\n",
    "        self.cmatrix = np.zeros((self.num_classes, self.num_classes))\n",
    "            \n",
    "    def print_report(self):\n",
    "        all_scores = self.scores('all')\n",
    "        print(\"{:^15}\\t{:^15}\\t{:^15}\\t{:^15}\".format(\"Class\", \"Precision\", \"Recall\", \"F1-score\"))\n",
    "        for c, values in all_scores.items():\n",
    "            print(\"{:^15}\\t{:^15.3f}\\t{:^15.3f}\\t{:^15.3f}\".format(c, values[0], values[1], values[2]))\n",
    "            \n",
    "        print(\"Accuracy : {:.5f} %\".format(self.accuracy_score()))"
   ]
  },
  {
   "cell_type": "code",
   "execution_count": 14,
   "metadata": {},
   "outputs": [],
   "source": [
    "class BiDirectionalLstm(nn.Module):\n",
    "    def __init__(self, vocab_size, embedding_dim, hidden_size, num_classes):\n",
    "        super(BiDirectionalLstm, self).__init__()\n",
    "        \n",
    "        self.embedding = nn.Embedding(vocab_size, embedding_dim)\n",
    "        self.hidden_size = hidden_size\n",
    "        self.cell = nn.LSTM(embedding_dim, hidden_size, bidirectional = True, dropout = 0.5)\n",
    "        self.linear = nn.Linear(hidden_size * 2, num_classes)\n",
    "        self.soft = nn.Softmax(dim=1)\n",
    "        \n",
    "    def forward(self, x, hstate = None):\n",
    "        if hstate is None:\n",
    "            hstate = self.init_hidden(self.hidden_size, x.shape[-1])\n",
    "            \n",
    "        cell_out, _ = self.cell(self.embedding(x), hstate)\n",
    "        \n",
    "        temp = torch.cat([cell_out[-1, :, :self.hidden_size], cell_out[0, :, self.hidden_size:]], axis = -1)\n",
    "        \n",
    "        out = self.linear(temp)\n",
    "        \n",
    "        return self.soft(out)\n",
    "            \n",
    "    def init_hidden(self, hidden_size, bs):\n",
    "        return (torch.zeros(2, bs, hidden_size, device=dev), torch.zeros(2, bs, hidden_size, device=dev))\n",
    "    \n",
    "    def load_embeddings(self, embeddings):\n",
    "        self.embedding.weight.data.copy_(embeddings)"
   ]
  },
  {
   "cell_type": "code",
   "execution_count": 15,
   "metadata": {},
   "outputs": [],
   "source": [
    "VOCAB_SIZE = len(SENT_FIELD.vocab)\n",
    "EMBEDDING_DIM = 300\n",
    "HIDDEN_SIZE = 128\n",
    "NUM_CLASSES = 5"
   ]
  },
  {
   "cell_type": "code",
   "execution_count": 16,
   "metadata": {},
   "outputs": [],
   "source": [
    "import pandas as pd\n",
    "from sklearn.utils import class_weight\n",
    "\n",
    "train = pd.read_csv(\"./train_test_data/train.csv\")\n",
    "weight_array = class_weight.compute_class_weight('balanced', sorted(train.Score.unique()), train.Score)\n",
    "del(train)"
   ]
  },
  {
   "cell_type": "code",
   "execution_count": 17,
   "metadata": {},
   "outputs": [],
   "source": [
    "net = BiDirectionalLstm(VOCAB_SIZE, EMBEDDING_DIM, HIDDEN_SIZE, NUM_CLASSES)\n",
    "net.load_embeddings(SENT_FIELD.vocab.vectors)\n",
    "net = net.cuda()\n",
    "criterion = nn.CrossEntropyLoss(weight=torch.FloatTensor(weight_array).to(dev))\n",
    "\n",
    "optimizer = opt.Adam(net.parameters(), lr = 0.001)\n",
    "\n",
    "scheduler = opt.lr_scheduler.StepLR(optimizer, step_size=5, gamma=0.1)"
   ]
  },
  {
   "cell_type": "code",
   "execution_count": 18,
   "metadata": {},
   "outputs": [],
   "source": [
    "train_metrics = ClassificationMetrics(NUM_CLASSES)\n",
    "val_metrics = ClassificationMetrics(NUM_CLASSES)"
   ]
  },
  {
   "cell_type": "code",
   "execution_count": 19,
   "metadata": {},
   "outputs": [
    {
     "name": "stderr",
     "output_type": "stream",
     "text": [
      "100%|██████████████████████████████████████████████████████████████████████████████| 7011/7011 [05:43<00:00, 20.41it/s]\n",
      "  1%|▍                                                                               | 10/1753 [00:00<00:17, 99.27it/s]"
     ]
    },
    {
     "name": "stdout",
     "output_type": "stream",
     "text": [
      "Training Run\n",
      "Epoch : 1 Loss : 1.40022\n",
      "     Class     \t   Precision   \t    Recall     \t   F1-score    \n",
      "       0       \t     0.463     \t     0.650     \t     0.541     \n",
      "       1       \t     0.203     \t     0.294     \t     0.240     \n",
      "       2       \t     0.260     \t     0.360     \t     0.302     \n",
      "       3       \t     0.272     \t     0.378     \t     0.317     \n",
      "       4       \t     0.890     \t     0.706     \t     0.788     \n",
      "Accuracy : 0.61485 %\n"
     ]
    },
    {
     "name": "stderr",
     "output_type": "stream",
     "text": [
      "100%|█████████████████████████████████████████████████████████████████████████████| 1753/1753 [00:14<00:00, 119.61it/s]\n",
      "  0%|                                                                                         | 0/7011 [00:00<?, ?it/s]"
     ]
    },
    {
     "name": "stdout",
     "output_type": "stream",
     "text": [
      "Validation Run\n",
      "Epoch : 1 Loss : 1.35448\n",
      "     Class     \t   Precision   \t    Recall     \t   F1-score    \n",
      "       0       \t     0.631     \t     0.648     \t     0.639     \n",
      "       1       \t     0.258     \t     0.435     \t     0.324     \n",
      "       2       \t     0.385     \t     0.344     \t     0.364     \n",
      "       3       \t     0.245     \t     0.626     \t     0.352     \n",
      "       4       \t     0.932     \t     0.605     \t     0.733     \n",
      "Accuracy : 0.58503 %\n",
      "##\n",
      "New Best Accuracy : 58.50301##\n",
      "\n"
     ]
    },
    {
     "name": "stderr",
     "output_type": "stream",
     "text": [
      "100%|██████████████████████████████████████████████████████████████████████████████| 7011/7011 [06:31<00:00, 17.90it/s]\n",
      "  0%|                                                                                 | 1/1753 [00:00<03:28,  8.42it/s]"
     ]
    },
    {
     "name": "stdout",
     "output_type": "stream",
     "text": [
      "Training Run\n",
      "Epoch : 2 Loss : 1.31078\n",
      "     Class     \t   Precision   \t    Recall     \t   F1-score    \n",
      "       0       \t     0.635     \t     0.713     \t     0.672     \n",
      "       1       \t     0.322     \t     0.460     \t     0.379     \n",
      "       2       \t     0.364     \t     0.471     \t     0.411     \n",
      "       3       \t     0.330     \t     0.506     \t     0.399     \n",
      "       4       \t     0.923     \t     0.752     \t     0.829     \n",
      "Accuracy : 0.68330 %\n"
     ]
    },
    {
     "name": "stderr",
     "output_type": "stream",
     "text": [
      "100%|██████████████████████████████████████████████████████████████████████████████| 1753/1753 [00:26<00:00, 67.06it/s]\n",
      "  0%|                                                                                         | 0/7011 [00:00<?, ?it/s]"
     ]
    },
    {
     "name": "stdout",
     "output_type": "stream",
     "text": [
      "Validation Run\n",
      "Epoch : 2 Loss : 1.34220\n",
      "     Class     \t   Precision   \t    Recall     \t   F1-score    \n",
      "       0       \t     0.612     \t     0.659     \t     0.634     \n",
      "       1       \t     0.268     \t     0.462     \t     0.339     \n",
      "       2       \t     0.310     \t     0.470     \t     0.374     \n",
      "       3       \t     0.277     \t     0.451     \t     0.343     \n",
      "       4       \t     0.921     \t     0.696     \t     0.793     \n",
      "Accuracy : 0.63347 %\n",
      "##\n",
      "New Best Accuracy : 63.34736##\n",
      "\n"
     ]
    },
    {
     "name": "stderr",
     "output_type": "stream",
     "text": [
      "100%|██████████████████████████████████████████████████████████████████████████████| 7011/7011 [06:39<00:00, 17.56it/s]\n",
      "  0%|▎                                                                                | 6/1753 [00:00<00:30, 57.30it/s]"
     ]
    },
    {
     "name": "stdout",
     "output_type": "stream",
     "text": [
      "Training Run\n",
      "Epoch : 3 Loss : 1.24824\n",
      "     Class     \t   Precision   \t    Recall     \t   F1-score    \n",
      "       0       \t     0.709     \t     0.753     \t     0.730     \n",
      "       1       \t     0.409     \t     0.567     \t     0.475     \n",
      "       2       \t     0.435     \t     0.567     \t     0.493     \n",
      "       3       \t     0.388     \t     0.576     \t     0.463     \n",
      "       4       \t     0.936     \t     0.783     \t     0.853     \n",
      "Accuracy : 0.72804 %\n"
     ]
    },
    {
     "name": "stderr",
     "output_type": "stream",
     "text": [
      "100%|██████████████████████████████████████████████████████████████████████████████| 1753/1753 [00:19<00:00, 87.79it/s]\n",
      "  0%|                                                                                         | 0/7011 [00:00<?, ?it/s]"
     ]
    },
    {
     "name": "stdout",
     "output_type": "stream",
     "text": [
      "Validation Run\n",
      "Epoch : 3 Loss : 1.34096\n",
      "     Class     \t   Precision   \t    Recall     \t   F1-score    \n",
      "       0       \t     0.601     \t     0.683     \t     0.639     \n",
      "       1       \t     0.291     \t     0.420     \t     0.344     \n",
      "       2       \t     0.359     \t     0.410     \t     0.383     \n",
      "       3       \t     0.314     \t     0.467     \t     0.376     \n",
      "       4       \t     0.908     \t     0.758     \t     0.826     \n",
      "Accuracy : 0.67240 %\n",
      "##\n",
      "New Best Accuracy : 67.23960##\n",
      "\n"
     ]
    },
    {
     "name": "stderr",
     "output_type": "stream",
     "text": [
      "100%|██████████████████████████████████████████████████████████████████████████████| 7011/7011 [06:37<00:00, 17.62it/s]\n",
      "  0%|                                                                                 | 2/1753 [00:00<01:29, 19.66it/s]"
     ]
    },
    {
     "name": "stdout",
     "output_type": "stream",
     "text": [
      "Training Run\n",
      "Epoch : 4 Loss : 1.19479\n",
      "     Class     \t   Precision   \t    Recall     \t   F1-score    \n",
      "       0       \t     0.758     \t     0.793     \t     0.775     \n",
      "       1       \t     0.481     \t     0.659     \t     0.556     \n",
      "       2       \t     0.511     \t     0.635     \t     0.566     \n",
      "       3       \t     0.444     \t     0.639     \t     0.524     \n",
      "       4       \t     0.945     \t     0.808     \t     0.871     \n",
      "Accuracy : 0.76534 %\n"
     ]
    },
    {
     "name": "stderr",
     "output_type": "stream",
     "text": [
      "100%|██████████████████████████████████████████████████████████████████████████████| 1753/1753 [00:19<00:00, 92.00it/s]\n",
      "  0%|                                                                                         | 0/7011 [00:00<?, ?it/s]"
     ]
    },
    {
     "name": "stdout",
     "output_type": "stream",
     "text": [
      "Validation Run\n",
      "Epoch : 4 Loss : 1.34838\n",
      "     Class     \t   Precision   \t    Recall     \t   F1-score    \n",
      "       0       \t     0.668     \t     0.596     \t     0.630     \n",
      "       1       \t     0.276     \t     0.438     \t     0.339     \n",
      "       2       \t     0.323     \t     0.481     \t     0.387     \n",
      "       3       \t     0.284     \t     0.482     \t     0.358     \n",
      "       4       \t     0.913     \t     0.715     \t     0.802     \n",
      "Accuracy : 0.64328 %\n"
     ]
    },
    {
     "name": "stderr",
     "output_type": "stream",
     "text": [
      "100%|██████████████████████████████████████████████████████████████████████████████| 7011/7011 [06:46<00:00, 17.25it/s]\n",
      "  0%|▏                                                                                | 4/1753 [00:00<00:44, 38.94it/s]"
     ]
    },
    {
     "name": "stdout",
     "output_type": "stream",
     "text": [
      "Training Run\n",
      "Epoch : 5 Loss : 1.15352\n",
      "     Class     \t   Precision   \t    Recall     \t   F1-score    \n",
      "       0       \t     0.787     \t     0.818     \t     0.802     \n",
      "       1       \t     0.550     \t     0.727     \t     0.626     \n",
      "       2       \t     0.558     \t     0.694     \t     0.619     \n",
      "       3       \t     0.495     \t     0.687     \t     0.575     \n",
      "       4       \t     0.951     \t     0.827     \t     0.884     \n",
      "Accuracy : 0.79372 %\n"
     ]
    },
    {
     "name": "stderr",
     "output_type": "stream",
     "text": [
      "100%|██████████████████████████████████████████████████████████████████████████████| 1753/1753 [00:20<00:00, 85.94it/s]\n",
      "  0%|                                                                                         | 0/7011 [00:00<?, ?it/s]"
     ]
    },
    {
     "name": "stdout",
     "output_type": "stream",
     "text": [
      "Validation Run\n",
      "Epoch : 5 Loss : 1.35151\n",
      "     Class     \t   Precision   \t    Recall     \t   F1-score    \n",
      "       0       \t     0.641     \t     0.636     \t     0.638     \n",
      "       1       \t     0.276     \t     0.437     \t     0.338     \n",
      "       2       \t     0.353     \t     0.405     \t     0.377     \n",
      "       3       \t     0.305     \t     0.451     \t     0.364     \n",
      "       4       \t     0.902     \t     0.764     \t     0.827     \n",
      "Accuracy : 0.67010 %\n"
     ]
    },
    {
     "name": "stderr",
     "output_type": "stream",
     "text": [
      "100%|██████████████████████████████████████████████████████████████████████████████| 7011/7011 [06:38<00:00, 17.61it/s]\n",
      "  0%|                                                                                         | 0/1753 [00:00<?, ?it/s]"
     ]
    },
    {
     "name": "stdout",
     "output_type": "stream",
     "text": [
      "Training Run\n",
      "Epoch : 6 Loss : 1.12513\n",
      "     Class     \t   Precision   \t    Recall     \t   F1-score    \n",
      "       0       \t     0.809     \t     0.837     \t     0.823     \n",
      "       1       \t     0.603     \t     0.765     \t     0.674     \n",
      "       2       \t     0.600     \t     0.734     \t     0.660     \n",
      "       3       \t     0.530     \t     0.719     \t     0.610     \n",
      "       4       \t     0.955     \t     0.843     \t     0.896     \n",
      "Accuracy : 0.81506 %\n"
     ]
    },
    {
     "name": "stderr",
     "output_type": "stream",
     "text": [
      "100%|██████████████████████████████████████████████████████████████████████████████| 1753/1753 [00:20<00:00, 84.61it/s]\n",
      "  0%|                                                                                         | 0/7011 [00:00<?, ?it/s]"
     ]
    },
    {
     "name": "stdout",
     "output_type": "stream",
     "text": [
      "Validation Run\n",
      "Epoch : 6 Loss : 1.35691\n",
      "     Class     \t   Precision   \t    Recall     \t   F1-score    \n",
      "       0       \t     0.663     \t     0.610     \t     0.635     \n",
      "       1       \t     0.280     \t     0.432     \t     0.340     \n",
      "       2       \t     0.366     \t     0.388     \t     0.377     \n",
      "       3       \t     0.288     \t     0.512     \t     0.368     \n",
      "       4       \t     0.904     \t     0.733     \t     0.810     \n",
      "Accuracy : 0.65373 %\n"
     ]
    },
    {
     "name": "stderr",
     "output_type": "stream",
     "text": [
      "100%|██████████████████████████████████████████████████████████████████████████████| 7011/7011 [06:34<00:00, 17.77it/s]\n",
      "  0%|                                                                                 | 2/1753 [00:00<01:30, 19.28it/s]"
     ]
    },
    {
     "name": "stdout",
     "output_type": "stream",
     "text": [
      "Training Run\n",
      "Epoch : 7 Loss : 1.10417\n",
      "     Class     \t   Precision   \t    Recall     \t   F1-score    \n",
      "       0       \t     0.824     \t     0.852     \t     0.838     \n",
      "       1       \t     0.637     \t     0.793     \t     0.707     \n",
      "       2       \t     0.626     \t     0.762     \t     0.687     \n",
      "       3       \t     0.566     \t     0.746     \t     0.643     \n",
      "       4       \t     0.959     \t     0.856     \t     0.904     \n",
      "Accuracy : 0.83157 %\n"
     ]
    },
    {
     "name": "stderr",
     "output_type": "stream",
     "text": [
      "100%|██████████████████████████████████████████████████████████████████████████████| 1753/1753 [00:21<00:00, 82.52it/s]\n",
      "  0%|                                                                                         | 0/7011 [00:00<?, ?it/s]"
     ]
    },
    {
     "name": "stdout",
     "output_type": "stream",
     "text": [
      "Validation Run\n",
      "Epoch : 7 Loss : 1.36004\n",
      "     Class     \t   Precision   \t    Recall     \t   F1-score    \n",
      "       0       \t     0.642     \t     0.583     \t     0.611     \n",
      "       1       \t     0.254     \t     0.500     \t     0.337     \n",
      "       2       \t     0.322     \t     0.414     \t     0.362     \n",
      "       3       \t     0.304     \t     0.417     \t     0.352     \n",
      "       4       \t     0.903     \t     0.755     \t     0.823     \n",
      "Accuracy : 0.65886 %\n"
     ]
    },
    {
     "name": "stderr",
     "output_type": "stream",
     "text": [
      "100%|██████████████████████████████████████████████████████████████████████████████| 7011/7011 [06:51<00:00, 17.03it/s]\n",
      "  0%|                                                                                 | 1/1753 [00:00<03:05,  9.46it/s]"
     ]
    },
    {
     "name": "stdout",
     "output_type": "stream",
     "text": [
      "Training Run\n",
      "Epoch : 8 Loss : 1.09000\n",
      "     Class     \t   Precision   \t    Recall     \t   F1-score    \n",
      "       0       \t     0.838     \t     0.862     \t     0.850     \n",
      "       1       \t     0.658     \t     0.811     \t     0.726     \n",
      "       2       \t     0.646     \t     0.782     \t     0.707     \n",
      "       3       \t     0.593     \t     0.761     \t     0.666     \n",
      "       4       \t     0.961     \t     0.867     \t     0.911     \n",
      "Accuracy : 0.84392 %\n"
     ]
    },
    {
     "name": "stderr",
     "output_type": "stream",
     "text": [
      "100%|██████████████████████████████████████████████████████████████████████████████| 1753/1753 [00:20<00:00, 85.56it/s]\n",
      "  0%|                                                                                         | 0/7011 [00:00<?, ?it/s]"
     ]
    },
    {
     "name": "stdout",
     "output_type": "stream",
     "text": [
      "Validation Run\n",
      "Epoch : 8 Loss : 1.35841\n",
      "     Class     \t   Precision   \t    Recall     \t   F1-score    \n",
      "       0       \t     0.649     \t     0.610     \t     0.629     \n",
      "       1       \t     0.272     \t     0.429     \t     0.333     \n",
      "       2       \t     0.328     \t     0.435     \t     0.374     \n",
      "       3       \t     0.285     \t     0.474     \t     0.356     \n",
      "       4       \t     0.905     \t     0.723     \t     0.804     \n",
      "Accuracy : 0.64574 %\n"
     ]
    },
    {
     "name": "stderr",
     "output_type": "stream",
     "text": [
      "100%|██████████████████████████████████████████████████████████████████████████████| 7011/7011 [06:37<00:00, 17.65it/s]\n",
      "  0%|▏                                                                                | 5/1753 [00:00<00:37, 46.42it/s]"
     ]
    },
    {
     "name": "stdout",
     "output_type": "stream",
     "text": [
      "Training Run\n",
      "Epoch : 9 Loss : 1.07842\n",
      "     Class     \t   Precision   \t    Recall     \t   F1-score    \n",
      "       0       \t     0.843     \t     0.869     \t     0.856     \n",
      "       1       \t     0.679     \t     0.825     \t     0.745     \n",
      "       2       \t     0.661     \t     0.794     \t     0.722     \n",
      "       3       \t     0.612     \t     0.775     \t     0.684     \n",
      "       4       \t     0.963     \t     0.874     \t     0.916     \n",
      "Accuracy : 0.85257 %\n"
     ]
    },
    {
     "name": "stderr",
     "output_type": "stream",
     "text": [
      "100%|██████████████████████████████████████████████████████████████████████████████| 1753/1753 [00:17<00:00, 99.90it/s]\n",
      "  0%|                                                                                         | 0/7011 [00:00<?, ?it/s]"
     ]
    },
    {
     "name": "stdout",
     "output_type": "stream",
     "text": [
      "Validation Run\n",
      "Epoch : 9 Loss : 1.36308\n",
      "     Class     \t   Precision   \t    Recall     \t   F1-score    \n",
      "       0       \t     0.613     \t     0.666     \t     0.638     \n",
      "       1       \t     0.269     \t     0.363     \t     0.309     \n",
      "       2       \t     0.325     \t     0.429     \t     0.370     \n",
      "       3       \t     0.309     \t     0.410     \t     0.352     \n",
      "       4       \t     0.894     \t     0.772     \t     0.829     \n",
      "Accuracy : 0.67058 %\n"
     ]
    },
    {
     "name": "stderr",
     "output_type": "stream",
     "text": [
      "100%|██████████████████████████████████████████████████████████████████████████████| 7011/7011 [06:44<00:00, 17.32it/s]\n",
      "  0%|                                                                                         | 0/1753 [00:00<?, ?it/s]"
     ]
    },
    {
     "name": "stdout",
     "output_type": "stream",
     "text": [
      "Training Run\n",
      "Epoch : 10 Loss : 1.06934\n",
      "     Class     \t   Precision   \t    Recall     \t   F1-score    \n",
      "       0       \t     0.851     \t     0.876     \t     0.863     \n",
      "       1       \t     0.689     \t     0.834     \t     0.755     \n",
      "       2       \t     0.673     \t     0.803     \t     0.732     \n",
      "       3       \t     0.634     \t     0.785     \t     0.701     \n",
      "       4       \t     0.965     \t     0.881     \t     0.921     \n",
      "Accuracy : 0.86082 %\n"
     ]
    },
    {
     "name": "stderr",
     "output_type": "stream",
     "text": [
      "100%|██████████████████████████████████████████████████████████████████████████████| 1753/1753 [00:20<00:00, 83.69it/s]\n"
     ]
    },
    {
     "name": "stdout",
     "output_type": "stream",
     "text": [
      "Validation Run\n",
      "Epoch : 10 Loss : 1.36504\n",
      "     Class     \t   Precision   \t    Recall     \t   F1-score    \n",
      "       0       \t     0.634     \t     0.596     \t     0.615     \n",
      "       1       \t     0.259     \t     0.452     \t     0.329     \n",
      "       2       \t     0.316     \t     0.419     \t     0.360     \n",
      "       3       \t     0.286     \t     0.447     \t     0.349     \n",
      "       4       \t     0.903     \t     0.729     \t     0.807     \n",
      "Accuracy : 0.64480 %\n"
     ]
    }
   ],
   "source": [
    "from tqdm import tqdm\n",
    "import copy\n",
    "N_EPOCH = 20\n",
    "\n",
    "tloss = []\n",
    "tacc = []\n",
    "vloss = []\n",
    "vacc = []\n",
    "\n",
    "best_val_acc = 0\n",
    "best_model = copy.deepcopy(net)\n",
    "\n",
    "for epoch in range(N_EPOCH):\n",
    "    train_metrics.reset()\n",
    "    losses = []\n",
    "    net.train()\n",
    "    for batch in tqdm(train_iter):\n",
    "        optimizer.zero_grad()\n",
    "        labels = batch.Score - 1\n",
    "        pred = net(batch.Text)\n",
    "\n",
    "        loss = criterion(pred, labels)\n",
    "        loss.backward()\n",
    "        losses.append(loss.item())\n",
    "        optimizer.step()\n",
    "\n",
    "        train_metrics.update(pred, labels)\n",
    "    \n",
    "    print(\"Training Run\\nEpoch : {} Loss : {:.5f}\".format(epoch + 1, sum(losses) / len(losses)))\n",
    "    train_metrics.print_report()\n",
    "    tloss.append(sum(losses) / len(losses))\n",
    "    tacc.append(train_metrics.accuracy_score() * 100)\n",
    "    \n",
    "    val_metrics.reset()\n",
    "    val_losses = []\n",
    "    net.eval()\n",
    "    for batch in tqdm(val_iter):\n",
    "        labels = batch.Score - 1\n",
    "        pred = net(batch.Text)\n",
    "        loss = criterion(pred, labels)\n",
    "        val_losses.append(loss.item())\n",
    "        val_metrics.update(pred, labels)\n",
    "        \n",
    "    print(\"Validation Run\\nEpoch : {} Loss : {:.5f}\".format(epoch + 1, sum(val_losses) / len(val_losses)))\n",
    "    val_metrics.print_report()\n",
    "    acc = val_metrics.accuracy_score() * 100\n",
    "    vloss.append(sum(val_losses) / len(val_losses))\n",
    "    vacc.append(acc)\n",
    "    \n",
    "    if(acc > best_val_acc):\n",
    "        print(\"##\\nNew Best Accuracy : {:.5f}##\\n\".format(acc))\n",
    "        best_val_acc = acc\n",
    "        best_model = copy.deepcopy(net)"
   ]
  },
  {
   "cell_type": "code",
   "execution_count": 20,
   "metadata": {},
   "outputs": [],
   "source": [
    "import matplotlib.pyplot as plt"
   ]
  },
  {
   "cell_type": "code",
   "execution_count": 21,
   "metadata": {},
   "outputs": [
    {
     "data": {
      "text/plain": [
       "Text(0.5, 1.0, 'Loss Curves')"
      ]
     },
     "execution_count": 21,
     "metadata": {},
     "output_type": "execute_result"
    },
    {
     "data": {
      "image/png": "[encoded data removed]",
      "text/plain": [
       "<Figure size 432x288 with 1 Axes>"
      ]
     },
     "metadata": {
      "needs_background": "light"
     },
     "output_type": "display_data"
    }
   ],
   "source": [
    "plt.plot(list(range(len(tloss))), tloss, label=\"Training\")\n",
    "plt.plot(list(range(len(vloss))), vloss, label = \"Testing\")\n",
    "plt.legend()\n",
    "plt.xlabel(\"Epochs\")\n",
    "plt.ylabel(\"Loss Value\")\n",
    "plt.title(\"Loss Curves\")"
   ]
  },
  {
   "cell_type": "code",
   "execution_count": 22,
   "metadata": {},
   "outputs": [
    {
     "data": {
      "text/plain": [
       "Text(0.5, 1.0, 'Accuracy Value')"
      ]
     },
     "execution_count": 22,
     "metadata": {},
     "output_type": "execute_result"
    },
    {
     "data": {
      "image/png": "[encoded data removed]",
      "text/plain": [
       "<Figure size 432x288 with 1 Axes>"
      ]
     },
     "metadata": {
      "needs_background": "light"
     },
     "output_type": "display_data"
    }
   ],
   "source": [
    "plt.plot(list(range(len(tacc))), tacc, label=\"Training\")\n",
    "plt.plot(list(range(len(vacc))), vacc, label = \"Testing\")\n",
    "plt.legend()\n",
    "plt.xlabel(\"Epochs\")\n",
    "plt.ylabel(\"Accuracy\")\n",
    "plt.title(\"Accuracy Value\")"
   ]
  },
  {
   "cell_type": "code",
   "execution_count": 23,
   "metadata": {},
   "outputs": [
    {
     "name": "stdout",
     "output_type": "stream",
     "text": [
      "Review Rating as predicted : 5\n"
     ]
    }
   ],
   "source": [
    "pos_sent = \"This food was awesome!\"\n",
    "\n",
    "pos_rev = SENT_FIELD.process([SENT_FIELD.preprocess(pos_sent)])\n",
    "\n",
    "net.eval()\n",
    "pred = net(pos_rev.to(dev))\n",
    "\n",
    "print(\"Review Rating as predicted : {}\".format(pred.topk(1)[1].item() + 1))"
   ]
  },
  {
   "cell_type": "code",
   "execution_count": 24,
   "metadata": {},
   "outputs": [
    {
     "name": "stdout",
     "output_type": "stream",
     "text": [
      "Review Rating as predicted : 1\n"
     ]
    }
   ],
   "source": [
    "pos_sent = \"I just hated that food. Not recommended at all.\"\n",
    "\n",
    "pos_rev = SENT_FIELD.process([SENT_FIELD.preprocess(pos_sent)])\n",
    "\n",
    "net.eval()\n",
    "pred = net(pos_rev.to(dev))\n",
    "\n",
    "print(\"Review Rating as predicted : {}\".format(pred.topk(1)[1].item() + 1))"
   ]
  },
  {
   "cell_type": "code",
   "execution_count": 25,
   "metadata": {},
   "outputs": [],
   "source": [
    "vocab_dict = {}\n",
    "for z in range(len(SENT_FIELD.vocab)):\n",
    "    vocab_dict[SENT_FIELD.vocab.itos[z]] = z\n",
    "\n",
    "import pickle\n",
    "\n",
    "with open(\"./vocabdict.pkl\", \"wb\") as f:\n",
    "    pickle.dump([vocab_dict], f)"
   ]
  },
  {
   "cell_type": "code",
   "execution_count": null,
   "metadata": {},
   "outputs": [],
   "source": []
  }
 ],
 "metadata": {
  "kernelspec": {
   "display_name": "Python 3.8.1 64-bit ('torchenv': conda)",
   "language": "python",
   "name": "python38164bittorchenvconda44d23debcd2b40f9b9e35123d075dc93"
  },
  "language_info": {
   "codemirror_mode": {
    "name": "ipython",
    "version": 3
   },
   "file_extension": ".py",
   "mimetype": "text/x-python",
   "name": "python",
   "nbconvert_exporter": "python",
   "pygments_lexer": "ipython3",
   "version": "3.8.3"
  }
 },
 "nbformat": 4,
 "nbformat_minor": 4
}
